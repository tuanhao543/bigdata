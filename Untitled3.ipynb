{
 "cells": [
  {
   "cell_type": "code",
   "execution_count": 8,
   "id": "dc74e67f-af36-4150-b7f3-d0e668f5902f",
   "metadata": {},
   "outputs": [],
   "source": [
    "from pyspark.sql import SparkSession\n",
    "\n",
    "from pyspark.sql import SQLContext\n",
    "\n",
    "from pyspark.ml.evaluation import RegressionEvaluator\n",
    "\n",
    "from pyspark.ml.recommendation import ALS\n",
    "\n",
    "from pyspark.sql.functions import udf, col, when\n",
    "\n",
    "import numpy as np\n",
    "\n",
    "from IPython.display import Image\n",
    "\n",
    "from IPython.display import display"
   ]
  },
  {
   "cell_type": "code",
   "execution_count": 9,
   "id": "b0f835ea-b7ae-41f4-afbe-1ebb20bbd782",
   "metadata": {},
   "outputs": [],
   "source": [
    "directory = \"ml-latest-small\"\n"
   ]
  },
  {
   "cell_type": "code",
   "execution_count": 10,
   "id": "a9aecded-4849-43f1-8e44-1d4b39cf2a81",
   "metadata": {},
   "outputs": [
    {
     "name": "stdout",
     "output_type": "stream",
     "text": [
      "data\t\t\t\t\t  movies.csv\n",
      "DemoCK.ipynb\t\t\t\t  ratings.csv\n",
      "DemoGenres.ipynb\t\t\t  README.txt\n",
      "Demo.ipynb\t\t\t\t  spark\n",
      "elasticsearch-7.12.0\t\t\t  spark-2.4.5-bin-hadoop2.7.tgz\n",
      "elasticsearch-7.12.0-linux-x86_64.tar.gz  tags.csv\n",
      "elasticsearch-spark-30_2.12-7.12.0.jar\t  Untitled1.ipynb\n",
      "elasticsearch-spark-recommender\t\t  Untitled2.ipynb\n",
      "links.csv\t\t\t\t  Untitled3.ipynb\n",
      "ml-latest-small\t\t\t\t  Untitled.ipynb\n"
     ]
    }
   ],
   "source": [
    "!ls\n"
   ]
  },
  {
   "cell_type": "code",
   "execution_count": 11,
   "id": "b3e44dac-bcb2-4ee4-9f42-5c6d40bca0e3",
   "metadata": {},
   "outputs": [
    {
     "name": "stdout",
     "output_type": "stream",
     "text": [
      "links.csv  movies.csv  ratings.csv  README.txt\ttags.csv\n"
     ]
    }
   ],
   "source": [
    "!ls ml-latest-small\n"
   ]
  },
  {
   "cell_type": "code",
   "execution_count": 12,
   "id": "82d88b67-43fc-4026-a6fd-463b8b06c652",
   "metadata": {},
   "outputs": [],
   "source": [
    "# Tạo một phiên Spark (SparkSession) với tên ứng dụng là \"Mrecommend_demo\"\n",
    "spark = SparkSession.builder.appName(\"Mrecommend_demo\").getOrCreate()\n"
   ]
  },
  {
   "cell_type": "code",
   "execution_count": 13,
   "id": "4cd61bc7-5eda-40d2-b231-2a63c186325a",
   "metadata": {},
   "outputs": [],
   "source": [
    "# Tạo một đối tượng SparkContext (sc) để quản lý các tác vụ trên Spark.\n",
    "sc = spark.sparkContext\n",
    "\n",
    "# Tạo một đối tượng SQLContext (sqlContext) để thực hiện các truy vấn SQL trên Spark DataFrame.\n",
    "sqlContext = SQLContext(sc)"
   ]
  },
  {
   "cell_type": "code",
   "execution_count": 14,
   "id": "2a038e69-66c5-40ad-9455-2f8b0fa35215",
   "metadata": {},
   "outputs": [
    {
     "name": "stderr",
     "output_type": "stream",
     "text": [
      "[Stage 1:>                                                          (0 + 1) / 1]\r"
     ]
    },
    {
     "name": "stdout",
     "output_type": "stream",
     "text": [
      "root\n",
      " |-- userId: integer (nullable = true)\n",
      " |-- movieId: integer (nullable = true)\n",
      " |-- rating: double (nullable = true)\n",
      " |-- timestamp: integer (nullable = true)\n",
      "\n"
     ]
    },
    {
     "name": "stderr",
     "output_type": "stream",
     "text": [
      "                                                                                \r"
     ]
    }
   ],
   "source": [
    "ratings_df = spark.read.csv(directory+'/ratings.csv', inferSchema=True, header=True) \n",
    "ratings_df.printSchema()"
   ]
  },
  {
   "cell_type": "code",
   "execution_count": 15,
   "id": "33778ba8-3846-4a9e-9860-c078b4309929",
   "metadata": {},
   "outputs": [
    {
     "name": "stdout",
     "output_type": "stream",
     "text": [
      "+------+-------+------+---------+\n",
      "|userId|movieId|rating|timestamp|\n",
      "+------+-------+------+---------+\n",
      "|     1|      1|   4.0|964982703|\n",
      "|     1|      3|   4.0|964981247|\n",
      "|     1|      6|   4.0|964982224|\n",
      "|     1|     47|   5.0|964983815|\n",
      "|     1|     50|   5.0|964982931|\n",
      "|     1|     70|   3.0|964982400|\n",
      "|     1|    101|   5.0|964980868|\n",
      "|     1|    110|   4.0|964982176|\n",
      "|     1|    151|   5.0|964984041|\n",
      "|     1|    157|   5.0|964984100|\n",
      "|     1|    163|   5.0|964983650|\n",
      "|     1|    216|   5.0|964981208|\n",
      "|     1|    223|   3.0|964980985|\n",
      "|     1|    231|   5.0|964981179|\n",
      "|     1|    235|   4.0|964980908|\n",
      "|     1|    260|   5.0|964981680|\n",
      "|     1|    296|   3.0|964982967|\n",
      "|     1|    316|   3.0|964982310|\n",
      "|     1|    333|   5.0|964981179|\n",
      "|     1|    349|   4.0|964982563|\n",
      "+------+-------+------+---------+\n",
      "only showing top 20 rows\n",
      "\n"
     ]
    }
   ],
   "source": [
    "ratings_df.show()"
   ]
  },
  {
   "cell_type": "code",
   "execution_count": 16,
   "id": "c84000b3-cf01-42a1-9c3c-38320031dd37",
   "metadata": {},
   "outputs": [
    {
     "name": "stdout",
     "output_type": "stream",
     "text": [
      "root\n",
      " |-- movieId: integer (nullable = true)\n",
      " |-- title: string (nullable = true)\n",
      " |-- genres: string (nullable = true)\n",
      "\n"
     ]
    }
   ],
   "source": [
    "# Đọc dữ liệu từ tệp tin CSV chứa thông tin về các bộ phim vào DataFrame trong môi trường Apache Spark.\n",
    "# Tham số 'directory+'/movies.csv'' là đường dẫn đến tệp tin CSV cần đọc.\n",
    "# Tham số inferSchema=True được sử dụng để tự động xác định kiểu dữ liệu của các cột.\n",
    "# Tham số header=True cho biết rằng dòng đầu tiên của tệp tin chứa tên của các cột.\n",
    "movies_df = spark.read.csv(directory+'/movies.csv', inferSchema=True, header=True) \n",
    "\n",
    "# In ra cấu trúc của DataFrame để kiểm tra kiểu dữ liệu của các cột.\n",
    "movies_df.printSchema()\n"
   ]
  },
  {
   "cell_type": "code",
   "execution_count": 17,
   "id": "d0ffd909-0513-43a2-ad26-aa6987823147",
   "metadata": {},
   "outputs": [
    {
     "name": "stdout",
     "output_type": "stream",
     "text": [
      "+-------+--------------------+--------------------+\n",
      "|movieId|               title|              genres|\n",
      "+-------+--------------------+--------------------+\n",
      "|      1|    Toy Story (1995)|Adventure|Animati...|\n",
      "|      2|      Jumanji (1995)|Adventure|Childre...|\n",
      "|      3|Grumpier Old Men ...|      Comedy|Romance|\n",
      "|      4|Waiting to Exhale...|Comedy|Drama|Romance|\n",
      "|      5|Father of the Bri...|              Comedy|\n",
      "|      6|         Heat (1995)|Action|Crime|Thri...|\n",
      "|      7|      Sabrina (1995)|      Comedy|Romance|\n",
      "|      8| Tom and Huck (1995)|  Adventure|Children|\n",
      "|      9| Sudden Death (1995)|              Action|\n",
      "|     10|    GoldenEye (1995)|Action|Adventure|...|\n",
      "|     11|American Presiden...|Comedy|Drama|Romance|\n",
      "|     12|Dracula: Dead and...|       Comedy|Horror|\n",
      "|     13|        Balto (1995)|Adventure|Animati...|\n",
      "|     14|        Nixon (1995)|               Drama|\n",
      "|     15|Cutthroat Island ...|Action|Adventure|...|\n",
      "|     16|       Casino (1995)|         Crime|Drama|\n",
      "|     17|Sense and Sensibi...|       Drama|Romance|\n",
      "|     18|   Four Rooms (1995)|              Comedy|\n",
      "|     19|Ace Ventura: When...|              Comedy|\n",
      "|     20|  Money Train (1995)|Action|Comedy|Cri...|\n",
      "+-------+--------------------+--------------------+\n",
      "only showing top 20 rows\n",
      "\n"
     ]
    }
   ],
   "source": [
    "movies_df.show()"
   ]
  },
  {
   "cell_type": "code",
   "execution_count": 18,
   "id": "64e835a4-ce34-47ae-8630-6f6f2de7d414",
   "metadata": {},
   "outputs": [
    {
     "name": "stdout",
     "output_type": "stream",
     "text": [
      "root\n",
      " |-- movieId: integer (nullable = true)\n",
      " |-- imdbId: integer (nullable = true)\n",
      " |-- tmdbId: integer (nullable = true)\n",
      "\n"
     ]
    }
   ],
   "source": [
    "# Đọc dữ liệu từ tệp CSV 'links.csv' trong thư mục được chỉ định\n",
    "# DataFrame 'links_df' sẽ chứa dữ liệu từ tệp CSV\n",
    "links_df = spark.read.csv(directory+'/links.csv', inferSchema=True, header=True)\n",
    "\n",
    "# In ra cấu trúc của DataFrame, hiển thị tên cột và kiểu dữ liệu tương ứng\n",
    "links_df.printSchema()\n"
   ]
  },
  {
   "cell_type": "code",
   "execution_count": 19,
   "id": "727424c0-36d8-4d59-a5ec-6baca34c918e",
   "metadata": {},
   "outputs": [
    {
     "name": "stdout",
     "output_type": "stream",
     "text": [
      "+-------+------+------+\n",
      "|movieId|imdbId|tmdbId|\n",
      "+-------+------+------+\n",
      "|      1|114709|   862|\n",
      "|      2|113497|  8844|\n",
      "|      3|113228| 15602|\n",
      "|      4|114885| 31357|\n",
      "|      5|113041| 11862|\n",
      "|      6|113277|   949|\n",
      "|      7|114319| 11860|\n",
      "|      8|112302| 45325|\n",
      "|      9|114576|  9091|\n",
      "|     10|113189|   710|\n",
      "|     11|112346|  9087|\n",
      "|     12|112896| 12110|\n",
      "|     13|112453| 21032|\n",
      "|     14|113987| 10858|\n",
      "|     15|112760|  1408|\n",
      "|     16|112641|   524|\n",
      "|     17|114388|  4584|\n",
      "|     18|113101|     5|\n",
      "|     19|112281|  9273|\n",
      "|     20|113845| 11517|\n",
      "+-------+------+------+\n",
      "only showing top 20 rows\n",
      "\n"
     ]
    }
   ],
   "source": [
    "links_df.show()"
   ]
  },
  {
   "cell_type": "code",
   "execution_count": 20,
   "id": "38624705-10e3-4fe5-a40b-5f51f353ab25",
   "metadata": {},
   "outputs": [],
   "source": [
    "# Chia ngẫu nhiên dữ liệu trong DataFrame 'ratings_df' thành hai phần: training và validation\n",
    "# Tỷ lệ chia là 80% cho training và 20% cho validation\n",
    "training_df, validation_df = ratings_df.randomSplit([.8, .2])\n"
   ]
  },
  {
   "cell_type": "code",
   "execution_count": 21,
   "id": "ebe84fd4-3451-4866-8e18-f5f9ef2ad403",
   "metadata": {},
   "outputs": [],
   "source": [
    "# Số vòng lặp (iterations) cho thuật toán huấn luyện mô hình\n",
    "iterations = 10\n",
    "\n",
    "# Tham số regularization (chống quá mức) được sử dụng để kiểm soát độ phức tạp của mô hình và tránh overfitting\n",
    "regularization_parameter = 0.1\n",
    "\n",
    "# Rank là một tham số quan trọng liên quan đến kích thước ẩn của mô hình, thường được sử dụng trong các mô hình độ phức tạp cao như mô hình hệ thống gợi ý (recommendation systems)\n",
    "rank = 4\n",
    "\n",
    "# Một danh sách (errors) được sử dụng để lưu trữ các giá trị lỗi trong quá trình huấn luyện mô hình\n",
    "errors = []\n",
    "\n",
    "# Biến err được sử dụng để lưu trữ giá trị lỗi tạm thời trong mỗi vòng lặp\n",
    "err = 0\n"
   ]
  },
  {
   "cell_type": "code",
   "execution_count": 22,
   "id": "8ca4f2ab-1338-49c2-8c22-0a62061980f2",
   "metadata": {},
   "outputs": [
    {
     "name": "stderr",
     "output_type": "stream",
     "text": [
      "[Stage 117:>                                                        (0 + 1) / 1]\r"
     ]
    },
    {
     "name": "stdout",
     "output_type": "stream",
     "text": [
      "Root-mean-square error = 0.8799175985875036\n"
     ]
    },
    {
     "name": "stderr",
     "output_type": "stream",
     "text": [
      "                                                                                \r"
     ]
    }
   ],
   "source": [
    "# Xây dựng mô hình ALS (Alternating Least Squares) với các tham số đã được đặt trước\n",
    "als = ALS(maxIter=iterations, regParam=regularization_parameter, rank=4, userCol=\"userId\", itemCol=\"movieId\", ratingCol=\"rating\")\n",
    "\n",
    "# Huấn luyện mô hình trên tập dữ liệu huấn luyện (training_df)\n",
    "model = als.fit(training_df)\n",
    "\n",
    "# Tạo dự đoán trên tập dữ liệu validation_df sử dụng mô hình đã huấn luyện\n",
    "predictions = model.transform(validation_df)\n",
    "\n",
    "# Loại bỏ các dự đoán có giá trị NaN (không phù hợp)\n",
    "new_predictions = predictions.filter(col('prediction') != np.nan)\n",
    "\n",
    "# Sử dụng đánh giá viên (evaluator) để đánh giá chất lượng dự đoán bằng cách tính Root Mean Square Error (RMSE)\n",
    "evaluator = RegressionEvaluator(metricName=\"rmse\", labelCol=\"rating\", predictionCol=\"prediction\")\n",
    "rmse = evaluator.evaluate(new_predictions)\n",
    "\n",
    "# In ra giá trị RMSE, một độ đo đánh giá chất lượng của mô hình hệ thống gợi ý\n",
    "print(\"Root-mean-square error = \" + str(rmse))\n"
   ]
  },
  {
   "cell_type": "code",
   "execution_count": 23,
   "id": "b0747d53-6d15-4ca1-8f83-28131407655e",
   "metadata": {},
   "outputs": [
    {
     "name": "stderr",
     "output_type": "stream",
     "text": [
      "                                                                                \r"
     ]
    },
    {
     "data": {
      "text/html": [
       "<div>\n",
       "<style scoped>\n",
       "    .dataframe tbody tr th:only-of-type {\n",
       "        vertical-align: middle;\n",
       "    }\n",
       "\n",
       "    .dataframe tbody tr th {\n",
       "        vertical-align: top;\n",
       "    }\n",
       "\n",
       "    .dataframe thead th {\n",
       "        text-align: right;\n",
       "    }\n",
       "</style>\n",
       "<table border=\"1\" class=\"dataframe\">\n",
       "  <thead>\n",
       "    <tr style=\"text-align: right;\">\n",
       "      <th></th>\n",
       "      <th>userId</th>\n",
       "      <th>movieId</th>\n",
       "      <th>rating</th>\n",
       "      <th>timestamp</th>\n",
       "      <th>prediction</th>\n",
       "    </tr>\n",
       "  </thead>\n",
       "  <tbody>\n",
       "    <tr>\n",
       "      <th>0</th>\n",
       "      <td>1</td>\n",
       "      <td>596</td>\n",
       "      <td>5.0</td>\n",
       "      <td>964982838</td>\n",
       "      <td>3.909336</td>\n",
       "    </tr>\n",
       "    <tr>\n",
       "      <th>1</th>\n",
       "      <td>1</td>\n",
       "      <td>223</td>\n",
       "      <td>3.0</td>\n",
       "      <td>964980985</td>\n",
       "      <td>4.496200</td>\n",
       "    </tr>\n",
       "    <tr>\n",
       "      <th>2</th>\n",
       "      <td>1</td>\n",
       "      <td>157</td>\n",
       "      <td>5.0</td>\n",
       "      <td>964984100</td>\n",
       "      <td>3.539331</td>\n",
       "    </tr>\n",
       "    <tr>\n",
       "      <th>3</th>\n",
       "      <td>1</td>\n",
       "      <td>47</td>\n",
       "      <td>5.0</td>\n",
       "      <td>964983815</td>\n",
       "      <td>4.607905</td>\n",
       "    </tr>\n",
       "    <tr>\n",
       "      <th>4</th>\n",
       "      <td>1</td>\n",
       "      <td>235</td>\n",
       "      <td>4.0</td>\n",
       "      <td>964980908</td>\n",
       "      <td>3.986697</td>\n",
       "    </tr>\n",
       "    <tr>\n",
       "      <th>5</th>\n",
       "      <td>1</td>\n",
       "      <td>1029</td>\n",
       "      <td>5.0</td>\n",
       "      <td>964982855</td>\n",
       "      <td>4.071447</td>\n",
       "    </tr>\n",
       "    <tr>\n",
       "      <th>6</th>\n",
       "      <td>1</td>\n",
       "      <td>231</td>\n",
       "      <td>5.0</td>\n",
       "      <td>964981179</td>\n",
       "      <td>4.004580</td>\n",
       "    </tr>\n",
       "    <tr>\n",
       "      <th>7</th>\n",
       "      <td>1</td>\n",
       "      <td>552</td>\n",
       "      <td>4.0</td>\n",
       "      <td>964982653</td>\n",
       "      <td>3.807122</td>\n",
       "    </tr>\n",
       "    <tr>\n",
       "      <th>8</th>\n",
       "      <td>1</td>\n",
       "      <td>50</td>\n",
       "      <td>5.0</td>\n",
       "      <td>964982931</td>\n",
       "      <td>4.961934</td>\n",
       "    </tr>\n",
       "    <tr>\n",
       "      <th>9</th>\n",
       "      <td>1</td>\n",
       "      <td>1023</td>\n",
       "      <td>5.0</td>\n",
       "      <td>964982681</td>\n",
       "      <td>3.965741</td>\n",
       "    </tr>\n",
       "  </tbody>\n",
       "</table>\n",
       "</div>"
      ],
      "text/plain": [
       "   userId  movieId  rating  timestamp  prediction\n",
       "0       1      596     5.0  964982838    3.909336\n",
       "1       1      223     3.0  964980985    4.496200\n",
       "2       1      157     5.0  964984100    3.539331\n",
       "3       1       47     5.0  964983815    4.607905\n",
       "4       1      235     4.0  964980908    3.986697\n",
       "5       1     1029     5.0  964982855    4.071447\n",
       "6       1      231     5.0  964981179    4.004580\n",
       "7       1      552     4.0  964982653    3.807122\n",
       "8       1       50     5.0  964982931    4.961934\n",
       "9       1     1023     5.0  964982681    3.965741"
      ]
     },
     "execution_count": 23,
     "metadata": {},
     "output_type": "execute_result"
    }
   ],
   "source": [
    "predictions.limit(10).toPandas()"
   ]
  },
  {
   "cell_type": "code",
   "execution_count": 24,
   "id": "3910ecdd-f013-44a2-9055-4ff6f969531e",
   "metadata": {},
   "outputs": [
    {
     "name": "stderr",
     "output_type": "stream",
     "text": [
      "                                                                                \r"
     ]
    },
    {
     "data": {
      "text/html": [
       "<div>\n",
       "<style scoped>\n",
       "    .dataframe tbody tr th:only-of-type {\n",
       "        vertical-align: middle;\n",
       "    }\n",
       "\n",
       "    .dataframe tbody tr th {\n",
       "        vertical-align: top;\n",
       "    }\n",
       "\n",
       "    .dataframe thead th {\n",
       "        text-align: right;\n",
       "    }\n",
       "</style>\n",
       "<table border=\"1\" class=\"dataframe\">\n",
       "  <thead>\n",
       "    <tr style=\"text-align: right;\">\n",
       "      <th></th>\n",
       "      <th>userId</th>\n",
       "      <th>title</th>\n",
       "      <th>genres</th>\n",
       "      <th>prediction</th>\n",
       "    </tr>\n",
       "  </thead>\n",
       "  <tbody>\n",
       "    <tr>\n",
       "      <th>0</th>\n",
       "      <td>580</td>\n",
       "      <td>Galaxy Quest (1999)</td>\n",
       "      <td>Adventure|Comedy|Sci-Fi</td>\n",
       "      <td>3.644958</td>\n",
       "    </tr>\n",
       "    <tr>\n",
       "      <th>1</th>\n",
       "      <td>597</td>\n",
       "      <td>Hudsucker Proxy, The (1994)</td>\n",
       "      <td>Comedy</td>\n",
       "      <td>4.451787</td>\n",
       "    </tr>\n",
       "    <tr>\n",
       "      <th>2</th>\n",
       "      <td>155</td>\n",
       "      <td>Galaxy Quest (1999)</td>\n",
       "      <td>Adventure|Comedy|Sci-Fi</td>\n",
       "      <td>3.501570</td>\n",
       "    </tr>\n",
       "    <tr>\n",
       "      <th>3</th>\n",
       "      <td>34</td>\n",
       "      <td>Men in Black (a.k.a. MIB) (1997)</td>\n",
       "      <td>Action|Comedy|Sci-Fi</td>\n",
       "      <td>3.348808</td>\n",
       "    </tr>\n",
       "    <tr>\n",
       "      <th>4</th>\n",
       "      <td>115</td>\n",
       "      <td>The Devil's Advocate (1997)</td>\n",
       "      <td>Drama|Mystery|Thriller</td>\n",
       "      <td>2.793694</td>\n",
       "    </tr>\n",
       "  </tbody>\n",
       "</table>\n",
       "</div>"
      ],
      "text/plain": [
       "   userId                             title                   genres  \\\n",
       "0     580               Galaxy Quest (1999)  Adventure|Comedy|Sci-Fi   \n",
       "1     597       Hudsucker Proxy, The (1994)                   Comedy   \n",
       "2     155               Galaxy Quest (1999)  Adventure|Comedy|Sci-Fi   \n",
       "3      34  Men in Black (a.k.a. MIB) (1997)     Action|Comedy|Sci-Fi   \n",
       "4     115       The Devil's Advocate (1997)   Drama|Mystery|Thriller   \n",
       "\n",
       "   prediction  \n",
       "0    3.644958  \n",
       "1    4.451787  \n",
       "2    3.501570  \n",
       "3    3.348808  \n",
       "4    2.793694  "
      ]
     },
     "execution_count": 24,
     "metadata": {},
     "output_type": "execute_result"
    }
   ],
   "source": [
    "# Kết hợp DataFrame 'predictions' với DataFrame 'movies_df' dựa trên cột \"movieId\"\n",
    "# Chọn các cột quan trọng bao gồm \"userId\", \"title\", \"genres\", và \"prediction\"\n",
    "# Hiển thị 5 dòng đầu tiên của kết quả dưới dạng Pandas DataFrame để dễ quan sát\n",
    "# Đối tượng 'movies_df' chứa thông tin về tiêu đề và thể loại của các sản phẩm (movies)\n",
    "# Đối tượng 'predictions' chứa các dự đoán xếp hạng cho từng người dùng và sản phẩm\n",
    "predictions.join(movies_df, \"movieId\").select(\"userId\", \"title\", \"genres\", \"prediction\").limit(5).toPandas()"
   ]
  },
  {
   "cell_type": "code",
   "execution_count": 25,
   "id": "269996cf-9709-4b5a-90e8-25b9cacdf924",
   "metadata": {},
   "outputs": [
    {
     "name": "stderr",
     "output_type": "stream",
     "text": [
      "                                                                                \r"
     ]
    },
    {
     "name": "stdout",
     "output_type": "stream",
     "text": [
      "+------+--------------------+--------------------+------+----------+\n",
      "|userId|               title|              genres|tmdbId|prediction|\n",
      "+------+--------------------+--------------------+------+----------+\n",
      "|   599|High School High ...|              Comedy|  9308| 1.5976142|\n",
      "|   599|Dirty Dancing (1987)|Drama|Musical|Rom...|    88| 2.9098053|\n",
      "|   599|     Candyman (1992)|     Horror|Thriller|  9529| 1.8324723|\n",
      "|   599|        Spawn (1997)|Action|Adventure|...| 10336| 2.2674296|\n",
      "|   599|Out of Africa (1985)|       Drama|Romance|   606| 2.9199157|\n",
      "+------+--------------------+--------------------+------+----------+\n",
      "only showing top 5 rows\n",
      "\n"
     ]
    }
   ],
   "source": [
    "# Lọc các dự đoán trong DataFrame 'predictions' chỉ cho người dùng có id là 599\n",
    "# Kết hợp với DataFrame 'movies_df' để lấy thông tin về tiêu đề và thể loại của các sản phẩm\n",
    "# Kết hợp với DataFrame 'links_df' để lấy thông tin về tmdbId của các sản phẩm\n",
    "# Chọn các cột quan trọng bao gồm \"userId\", \"title\", \"genres\", \"tmdbId\", và \"prediction\"\n",
    "# Hiển thị 5 dòng đầu tiên của kết quả\n",
    "# Đối tượng 'movies_df' chứa thông tin về tiêu đề và thể loại của các sản phẩm (movies)\n",
    "# Đối tượng 'links_df' chứa thông tin về tmdbId của các sản phẩm\n",
    "# Đối tượng 'predictions' chứa các dự đoán xếp hạng cho từng người dùng và sản phẩm\n",
    "for_one_user = predictions.filter(col(\"userId\") == 599).join(movies_df, \"movieId\").join(links_df, \"movieId\").select(\"userId\", \"title\", \"genres\", \"tmdbId\", \"prediction\")\n",
    "for_one_user.show(5)\n"
   ]
  },
  {
   "cell_type": "code",
   "execution_count": 26,
   "id": "55c6de18-3b16-4e3b-891a-c02f447ee761",
   "metadata": {},
   "outputs": [
    {
     "name": "stdout",
     "output_type": "stream",
     "text": [
      "High School High (1996)\n",
      "Dirty Dancing (1987)\n"
     ]
    }
   ],
   "source": [
    "# Sử dụng thư viện webbrowser để mở trình duyệt và hiển thị thông tin chi tiết về các sản phẩm trên trang web The Movie Database (TMDb)\n",
    "# Với mỗi sản phẩm trong hai sản phẩm đầu tiên của DataFrame 'for_one_user'\n",
    "# Xây dựng URL cho sản phẩm bằng cách thêm tmdbId vào đường link cơ bản \"https://www.themoviedb.org/movie/\"\n",
    "# In ra tiêu đề của sản phẩm\n",
    "# Mở trình duyệt và mở URL tương ứng với sản phẩm\n",
    "import webbrowser\n",
    "\n",
    "link = \"https://www.themoviedb.org/movie/\"\n",
    "\n",
    "for movie in for_one_user.take(2):\n",
    "    movieURL = link + str(movie.tmdbId)\n",
    "    print(movie.title)\n",
    "    webbrowser.open(movieURL)\n"
   ]
  },
  {
   "cell_type": "code",
   "execution_count": 27,
   "id": "dc842797-4272-400a-a767-cfbf2c51c703",
   "metadata": {},
   "outputs": [],
   "source": [
    "# Tạo ra 5 gợi ý xếp hạng cho tất cả người dùng dựa trên mô hình đã huấn luyện\n",
    "userRecomments = model.recommendForAllUsers(5)\n",
    "\n",
    "# Tạo ra 5 gợi ý xếp hạng cho tất cả sản phẩm dựa trên mô hình đã huấn luyện\n",
    "movieRecomments = model.recommendForAllItems(5)\n"
   ]
  },
  {
   "cell_type": "code",
   "execution_count": 28,
   "id": "bdf8bfcf-027f-422b-bd28-c96a8982c3ba",
   "metadata": {},
   "outputs": [
    {
     "name": "stdout",
     "output_type": "stream",
     "text": [
      "root\n",
      " |-- userId: integer (nullable = false)\n",
      " |-- recommendations: array (nullable = true)\n",
      " |    |-- element: struct (containsNull = true)\n",
      " |    |    |-- movieId: integer (nullable = true)\n",
      " |    |    |-- rating: float (nullable = true)\n",
      "\n"
     ]
    }
   ],
   "source": [
    "userRecomments.printSchema()"
   ]
  },
  {
   "cell_type": "code",
   "execution_count": 29,
   "id": "174072a0-759a-4a4f-bcc1-8e51c12d8c5c",
   "metadata": {},
   "outputs": [
    {
     "name": "stderr",
     "output_type": "stream",
     "text": [
      "[Stage 378:==================================================>   (94 + 4) / 100]\r"
     ]
    },
    {
     "name": "stdout",
     "output_type": "stream",
     "text": [
      "+------+--------------------------------------+\n",
      "|userId|movieId                               |\n",
      "+------+--------------------------------------+\n",
      "|1     |[104875, 170355, 68945, 3379, 60943]  |\n",
      "|2     |[5075, 68073, 5607, 3436, 183897]     |\n",
      "|3     |[3837, 26865, 33834, 86377, 2772]     |\n",
      "|4     |[158783, 89118, 48322, 5666, 130634]  |\n",
      "|5     |[8477, 40491, 3266, 6818, 213]        |\n",
      "|6     |[68073, 42730, 93008, 77846, 25906]   |\n",
      "|7     |[170355, 68945, 3379, 26171, 104875]  |\n",
      "|8     |[170355, 68945, 3379, 104875, 33649]  |\n",
      "|9     |[141718, 25947, 104875, 26326, 132333]|\n",
      "|10    |[7842, 3086, 120635, 998, 4476]       |\n",
      "+------+--------------------------------------+\n",
      "only showing top 10 rows\n",
      "\n"
     ]
    },
    {
     "name": "stderr",
     "output_type": "stream",
     "text": [
      "                                                                                \r"
     ]
    }
   ],
   "source": [
    "# Chọn các cột \"userId\" và \"recommendations.movieId\" từ DataFrame 'userRecomments'\n",
    "# Hiển thị 10 dòng đầu tiên của kết quả, trong đó \"recommendations.movieId\" là danh sách các sản phẩm được gợi ý cho từng người dùng\n",
    "userRecomments.select(\"userId\", \"recommendations.movieId\").show(10, False)\n"
   ]
  },
  {
   "cell_type": "code",
   "execution_count": 30,
   "id": "a8185bdc-c1dc-4d7f-b617-c851fc8fa0b4",
   "metadata": {},
   "outputs": [
    {
     "name": "stderr",
     "output_type": "stream",
     "text": [
      "[Stage 427:=====================================================>(99 + 1) / 100]\r"
     ]
    },
    {
     "name": "stdout",
     "output_type": "stream",
     "text": [
      "+-------+------------------------+\n",
      "|movieId|userId                  |\n",
      "+-------+------------------------+\n",
      "|1      |[53, 452, 276, 12, 43]  |\n",
      "|12     |[243, 12, 584, 406, 154]|\n",
      "|13     |[267, 43, 413, 327, 544]|\n",
      "|22     |[53, 12, 171, 154, 548] |\n",
      "|26     |[53, 171, 12, 548, 224] |\n",
      "|27     |[53, 12, 43, 243, 584]  |\n",
      "|28     |[53, 171, 250, 224, 122]|\n",
      "|31     |[43, 53, 594, 224, 12]  |\n",
      "|34     |[53, 224, 250, 171, 43] |\n",
      "|44     |[43, 267, 53, 413, 276] |\n",
      "+-------+------------------------+\n",
      "only showing top 10 rows\n",
      "\n"
     ]
    },
    {
     "name": "stderr",
     "output_type": "stream",
     "text": [
      "                                                                                \r"
     ]
    }
   ],
   "source": [
    "# Chọn các cột \"movieId\" và \"recommendations.userId\" từ DataFrame 'movieRecomments'\n",
    "# Hiển thị 10 dòng đầu tiên của kết quả, trong đó \"recommendations.userId\" là danh sách các người dùng được gợi ý cho từng sản phẩm\n",
    "movieRecomments.select(\"movieId\", \"recommendations.userId\").show(10, False)\n"
   ]
  },
  {
   "cell_type": "code",
   "execution_count": 31,
   "id": "c2ccfe0a-d04b-4169-b9e6-cbeaa5f42e51",
   "metadata": {},
   "outputs": [
    {
     "name": "stderr",
     "output_type": "stream",
     "text": [
      "[Stage 453:>                                                        (0 + 1) / 1]\r"
     ]
    },
    {
     "name": "stdout",
     "output_type": "stream",
     "text": [
      "+------+\n",
      "|userId|\n",
      "+------+\n",
      "|   148|\n",
      "|   463|\n",
      "|   471|\n",
      "+------+\n",
      "\n"
     ]
    },
    {
     "name": "stderr",
     "output_type": "stream",
     "text": [
      "                                                                                \r"
     ]
    }
   ],
   "source": [
    "# Lựa chọn cột \"userId\" từ DataFrame 'ratings_df' và chọn các giá trị độc nhất\n",
    "# Giới hạn kết quả thành 3 dòng và hiển thị danh sách người dùng độc nhất\n",
    "users = ratings_df.select(\"userId\").distinct().limit(3)\n",
    "users.show()\n"
   ]
  },
  {
   "cell_type": "code",
   "execution_count": 32,
   "id": "5dd84b05-058a-4d06-8662-d54ff1ebbf06",
   "metadata": {},
   "outputs": [],
   "source": [
    "# Tạo ra 10 gợi ý xếp hạng sản phẩm cho tập hợp con người dùng đã được chỉ định (users) dựa trên mô hình đã huấn luyện\n",
    "userSubsetRecs = model.recommendForUserSubset(users, 10)\n"
   ]
  },
  {
   "cell_type": "code",
   "execution_count": 33,
   "id": "e99cbb66-57f6-4e67-82b6-a31b680a5eb4",
   "metadata": {},
   "outputs": [
    {
     "name": "stderr",
     "output_type": "stream",
     "text": [
      "[Stage 485:====================================================> (98 + 2) / 100]\r"
     ]
    },
    {
     "name": "stdout",
     "output_type": "stream",
     "text": [
      "+------+--------------------+\n",
      "|userId|     recommendations|\n",
      "+------+--------------------+\n",
      "|   471|[{8477, 5.197691}...|\n",
      "|   463|[{170355, 5.28543...|\n",
      "|   148|[{5075, 4.7106347...|\n",
      "+------+--------------------+\n",
      "\n"
     ]
    },
    {
     "name": "stderr",
     "output_type": "stream",
     "text": [
      "                                                                                \r"
     ]
    }
   ],
   "source": [
    "userSubsetRecs.show()"
   ]
  },
  {
   "cell_type": "code",
   "execution_count": 34,
   "id": "97702fd7-03ba-4d1f-a9a6-6986be92d62f",
   "metadata": {},
   "outputs": [
    {
     "name": "stderr",
     "output_type": "stream",
     "text": [
      "[Stage 540:============================================>         (82 + 4) / 100]\r"
     ]
    },
    {
     "name": "stdout",
     "output_type": "stream",
     "text": [
      "+------+-----------------------------------------------------------------------+\n",
      "|userId|movieId                                                                |\n",
      "+------+-----------------------------------------------------------------------+\n",
      "|471   |[8477, 170355, 68945, 3379, 3266, 40491, 6201, 4495, 7815, 132333]     |\n",
      "|463   |[170355, 68945, 3379, 33649, 7841, 60943, 59018, 104875, 102217, 92494]|\n",
      "|148   |[5075, 7841, 33649, 60943, 59018, 84847, 136469, 2899, 93988, 7842]    |\n",
      "+------+-----------------------------------------------------------------------+\n",
      "\n"
     ]
    },
    {
     "name": "stderr",
     "output_type": "stream",
     "text": [
      "                                                                                \r"
     ]
    }
   ],
   "source": [
    "# Chọn các cột \"userId\" và \"recommendations.movieId\" từ DataFrame 'userSubsetRecs'\n",
    "# Hiển thị 10 dòng đầu tiên của kết quả, trong đó \"recommendations.movieId\" là danh sách các sản phẩm được gợi ý cho từng người dùng\n",
    "userSubsetRecs.select(\"userId\", \"recommendations.movieId\").show(10, False)\n"
   ]
  },
  {
   "cell_type": "code",
   "execution_count": 35,
   "id": "34e26642-b0d3-475f-93b7-c2bc3e10b5f7",
   "metadata": {},
   "outputs": [
    {
     "name": "stdout",
     "output_type": "stream",
     "text": [
      "+-------+\n",
      "|movieId|\n",
      "+-------+\n",
      "|   1580|\n",
      "|   2366|\n",
      "|   3175|\n",
      "+-------+\n",
      "\n"
     ]
    },
    {
     "name": "stderr",
     "output_type": "stream",
     "text": [
      "                                                                                \r"
     ]
    }
   ],
   "source": [
    "# Lựa chọn cột \"movieId\" từ DataFrame 'ratings_df' và chọn các giá trị độc nhất\n",
    "# Giới hạn kết quả thành 3 dòng và hiển thị danh sách sản phẩm độc nhất\n",
    "movies = ratings_df.select(\"movieId\").distinct().limit(3)\n",
    "movies.show()\n"
   ]
  },
  {
   "cell_type": "code",
   "execution_count": 36,
   "id": "fe59045c-12c6-4b02-b992-0b0f49b245f3",
   "metadata": {},
   "outputs": [
    {
     "name": "stderr",
     "output_type": "stream",
     "text": [
      "[Stage 598:=================================================>    (92 + 4) / 100]\r"
     ]
    },
    {
     "name": "stdout",
     "output_type": "stream",
     "text": [
      "+-------+------------------------------------------------+\n",
      "|movieId|userId                                          |\n",
      "+-------+------------------------------------------------+\n",
      "|1580   |[53, 276, 544, 12, 452, 543, 93, 337, 413, 523] |\n",
      "|3175   |[53, 452, 276, 12, 371, 93, 99, 122, 544, 171]  |\n",
      "|2366   |[236, 59, 53, 251, 273, 302, 465, 296, 258, 122]|\n",
      "+-------+------------------------------------------------+\n",
      "\n"
     ]
    },
    {
     "name": "stderr",
     "output_type": "stream",
     "text": [
      "                                                                                \r"
     ]
    }
   ],
   "source": [
    "# Tạo ra 10 gợi ý xếp hạng người dùng cho tập hợp con sản phẩm đã được chỉ định (movies) dựa trên mô hình đã huấn luyện\n",
    "movieSubSetRecs = model.recommendForItemSubset(movies, 10)\n",
    "# Chọn các cột \"movieId\" và \"recommendations.userId\" từ DataFrame 'movieSubSetRecs'\n",
    "# Hiển thị 10 dòng đầu tiên của kết quả, trong đó \"recommendations.userId\" là danh sách các người dùng được gợi ý cho từng sản phẩm\n",
    "movieSubSetRecs.select(\"movieId\", \"recommendations.userId\").show(10, False)\n"
   ]
  },
  {
   "cell_type": "code",
   "execution_count": 37,
   "id": "898064ea-1e5b-45b5-9f8f-3bbb24e8e6d0",
   "metadata": {},
   "outputs": [],
   "source": [
    "# Tạo danh sách movie_ids và user_ids\n",
    "movie_ids = [1580, 3175, 2366, 1590]\n",
    "user_ids = [543, 543, 543, 543]\n",
    "\n",
    "# Tạo DataFrame mới 'new_user_preds' từ danh sách movie_ids và user_ids\n",
    "new_user_preds = sqlContext.createDataFrame(zip(movie_ids, user_ids), schema=[\"movieId\", \"userId\"])\n"
   ]
  },
  {
   "cell_type": "code",
   "execution_count": 38,
   "id": "b9bc9bb1-b05c-4999-ab7c-1716dba68df1",
   "metadata": {},
   "outputs": [
    {
     "name": "stderr",
     "output_type": "stream",
     "text": [
      "                                                                                \r"
     ]
    },
    {
     "name": "stdout",
     "output_type": "stream",
     "text": [
      "+-------+------+----------+\n",
      "|movieId|userId|prediction|\n",
      "+-------+------+----------+\n",
      "|   1580|   543| 4.4607997|\n",
      "|   3175|   543|  4.308376|\n",
      "|   2366|   543|  2.549186|\n",
      "|   1590|   543|   2.96852|\n",
      "+-------+------+----------+\n",
      "\n"
     ]
    }
   ],
   "source": [
    "# Sử dụng mô hình để tạo ra các dự đoán xếp hạng cho DataFrame 'new_user_preds'\n",
    "new_predictions = model.transform(new_user_preds)\n",
    "\n",
    "# Hiển thị kết quả\n",
    "new_predictions.show()\n"
   ]
  },
  {
   "cell_type": "code",
   "execution_count": null,
   "id": "fe9cc150-1554-4199-943d-606d8c7e6682",
   "metadata": {},
   "outputs": [],
   "source": []
  },
  {
   "cell_type": "code",
   "execution_count": null,
   "id": "6de1245f-70a5-4711-84c1-db402d067423",
   "metadata": {},
   "outputs": [],
   "source": []
  }
 ],
 "metadata": {
  "kernelspec": {
   "display_name": "Python 3 (ipykernel)",
   "language": "python",
   "name": "python3"
  },
  "language_info": {
   "codemirror_mode": {
    "name": "ipython",
    "version": 3
   },
   "file_extension": ".py",
   "mimetype": "text/x-python",
   "name": "python",
   "nbconvert_exporter": "python",
   "pygments_lexer": "ipython3",
   "version": "3.10.12"
  }
 },
 "nbformat": 4,
 "nbformat_minor": 5
}
